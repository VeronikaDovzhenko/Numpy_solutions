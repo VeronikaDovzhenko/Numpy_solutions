{
  "nbformat": 4,
  "nbformat_minor": 0,
  "metadata": {
    "colab": {
      "provenance": [],
      "collapsed_sections": []
    },
    "kernelspec": {
      "name": "python3",
      "display_name": "Python 3"
    },
    "language_info": {
      "name": "python"
    }
  },
  "cells": [
    {
      "cell_type": "code",
      "execution_count": 4,
      "metadata": {
        "id": "zNfmFrt7gFTA"
      },
      "outputs": [],
      "source": [
        "#Импортируйте библиотеку NumPy\n",
        "import numpy as np \n"
      ]
    },
    {
      "cell_type": "code",
      "source": [
        "#Создайте массив из 10 нулей\n",
        "a = np.zeros(10)\n",
        "print(a)"
      ],
      "metadata": {
        "colab": {
          "base_uri": "https://localhost:8080/"
        },
        "id": "FZl0j0m2jJmh",
        "outputId": "0bfabfdc-cc1f-49c4-b067-ddce9f9e7a47"
      },
      "execution_count": 9,
      "outputs": [
        {
          "output_type": "stream",
          "name": "stdout",
          "text": [
            "[0. 0. 0. 0. 0. 0. 0. 0. 0. 0.]\n"
          ]
        }
      ]
    },
    {
      "cell_type": "code",
      "source": [
        "#Создать массив из 10 единиц\n",
        "a = np.ones(10)\n",
        "print(a)"
      ],
      "metadata": {
        "colab": {
          "base_uri": "https://localhost:8080/"
        },
        "id": "hao8VALVkDv9",
        "outputId": "4d57e687-4139-4be8-9700-b2afb5d196dc"
      },
      "execution_count": 10,
      "outputs": [
        {
          "output_type": "stream",
          "name": "stdout",
          "text": [
            "[1. 1. 1. 1. 1. 1. 1. 1. 1. 1.]\n"
          ]
        }
      ]
    },
    {
      "cell_type": "code",
      "source": [
        "#Создать массив из 10 пятерок\n",
        "a = np.full(10,5)\n",
        "print(a)"
      ],
      "metadata": {
        "colab": {
          "base_uri": "https://localhost:8080/"
        },
        "id": "OTYb31iBkqQa",
        "outputId": "17208acd-7ed3-4acb-c012-95bdd1208d7c"
      },
      "execution_count": 13,
      "outputs": [
        {
          "output_type": "stream",
          "name": "stdout",
          "text": [
            "[5 5 5 5 5 5 5 5 5 5]\n"
          ]
        }
      ]
    },
    {
      "cell_type": "code",
      "source": [
        "#Создать массив из целых чисел от 10 до 50\n",
        "a = np.arange(10,51)\n",
        "print(a)"
      ],
      "metadata": {
        "colab": {
          "base_uri": "https://localhost:8080/"
        },
        "id": "F1G9gw5upAac",
        "outputId": "2b937032-7d3e-4c88-c4d5-6b910c30796c"
      },
      "execution_count": 19,
      "outputs": [
        {
          "output_type": "stream",
          "name": "stdout",
          "text": [
            "[10 11 12 13 14 15 16 17 18 19 20 21 22 23 24 25 26 27 28 29 30 31 32 33\n",
            " 34 35 36 37 38 39 40 41 42 43 44 45 46 47 48 49 50]\n"
          ]
        }
      ]
    },
    {
      "cell_type": "code",
      "source": [
        "#Создать массив из четных чисел от 10 до 50\n",
        "a = np.arange(10,51,2)\n",
        "print(a)"
      ],
      "metadata": {
        "colab": {
          "base_uri": "https://localhost:8080/"
        },
        "id": "kewZu0KSp-Uc",
        "outputId": "df1d2434-9cd7-4dde-e7d0-33f84a053bbf"
      },
      "execution_count": 18,
      "outputs": [
        {
          "output_type": "stream",
          "name": "stdout",
          "text": [
            "[10 12 14 16 18 20 22 24 26 28 30 32 34 36 38 40 42 44 46 48 50]\n"
          ]
        }
      ]
    },
    {
      "cell_type": "code",
      "source": [
        "#Создать матрицу 3х3 с числами от 0 до 8\n",
        "a = np.arange(9).reshape(3,3)\n",
        "print(a)"
      ],
      "metadata": {
        "colab": {
          "base_uri": "https://localhost:8080/"
        },
        "id": "tg6pCZzbqS_H",
        "outputId": "3cfba7df-a166-4f27-dafa-cc51f3990304"
      },
      "execution_count": 17,
      "outputs": [
        {
          "output_type": "stream",
          "name": "stdout",
          "text": [
            "[[0 1 2]\n",
            " [3 4 5]\n",
            " [6 7 8]]\n"
          ]
        }
      ]
    },
    {
      "cell_type": "code",
      "source": [
        "#Создать единичную матрицу 3x3\n",
        "a = np.eye(3)\n",
        "print(a)"
      ],
      "metadata": {
        "colab": {
          "base_uri": "https://localhost:8080/"
        },
        "id": "Qu9f5Oujq3qW",
        "outputId": "b96d4205-c682-4f1a-e45d-f0d6edabb2f7"
      },
      "execution_count": 20,
      "outputs": [
        {
          "output_type": "stream",
          "name": "stdout",
          "text": [
            "[[1. 0. 0.]\n",
            " [0. 1. 0.]\n",
            " [0. 0. 1.]]\n"
          ]
        }
      ]
    },
    {
      "cell_type": "code",
      "source": [
        "#Используйте NumPy для генерации случайного числа от 0 до 1\n",
        "a = np.random.rand()\n",
        "print(a)"
      ],
      "metadata": {
        "colab": {
          "base_uri": "https://localhost:8080/"
        },
        "id": "d6JoqcJorWXj",
        "outputId": "41739ce5-1145-4f4f-a6f2-017c45df3ecc"
      },
      "execution_count": 21,
      "outputs": [
        {
          "output_type": "stream",
          "name": "stdout",
          "text": [
            "0.8236270376679065\n"
          ]
        }
      ]
    },
    {
      "cell_type": "code",
      "source": [
        "#Используйте NumPy для генерации массива из 25 случайных чисел, \n",
        "#взятых из стандартного нормального распределения\n",
        "a = np.random.randn(25)\n",
        "print(a)"
      ],
      "metadata": {
        "colab": {
          "base_uri": "https://localhost:8080/"
        },
        "id": "qq1bDPrmssJn",
        "outputId": "04c0881b-436e-4295-c707-fe5611879435"
      },
      "execution_count": 22,
      "outputs": [
        {
          "output_type": "stream",
          "name": "stdout",
          "text": [
            "[-1.29273072  2.5482838  -0.57347276  0.70610405  0.10510417  0.14809868\n",
            " -0.01111391  0.07148663  0.23447764 -1.23085015 -0.29407547 -1.5045279\n",
            " -0.86604671 -0.0771285  -0.01799423 -0.02210228  2.20708013 -0.78734751\n",
            "  1.28436318  1.04517746  0.74361809 -0.04858406 -2.01262421 -1.07004024\n",
            " -0.39366461]\n"
          ]
        }
      ]
    },
    {
      "cell_type": "code",
      "source": [
        "#Создайте следующую матрицу используя функции библиотеки NumPy:\n",
        "a = np.arange(0.01,1.01,0.01).reshape(10,10)\n",
        "print(a)"
      ],
      "metadata": {
        "colab": {
          "base_uri": "https://localhost:8080/"
        },
        "id": "qa-Zh8I-zQHc",
        "outputId": "22af3f70-96b8-48b6-f92c-f551bde68171"
      },
      "execution_count": 25,
      "outputs": [
        {
          "output_type": "stream",
          "name": "stdout",
          "text": [
            "[[0.01 0.02 0.03 0.04 0.05 0.06 0.07 0.08 0.09 0.1 ]\n",
            " [0.11 0.12 0.13 0.14 0.15 0.16 0.17 0.18 0.19 0.2 ]\n",
            " [0.21 0.22 0.23 0.24 0.25 0.26 0.27 0.28 0.29 0.3 ]\n",
            " [0.31 0.32 0.33 0.34 0.35 0.36 0.37 0.38 0.39 0.4 ]\n",
            " [0.41 0.42 0.43 0.44 0.45 0.46 0.47 0.48 0.49 0.5 ]\n",
            " [0.51 0.52 0.53 0.54 0.55 0.56 0.57 0.58 0.59 0.6 ]\n",
            " [0.61 0.62 0.63 0.64 0.65 0.66 0.67 0.68 0.69 0.7 ]\n",
            " [0.71 0.72 0.73 0.74 0.75 0.76 0.77 0.78 0.79 0.8 ]\n",
            " [0.81 0.82 0.83 0.84 0.85 0.86 0.87 0.88 0.89 0.9 ]\n",
            " [0.91 0.92 0.93 0.94 0.95 0.96 0.97 0.98 0.99 1.  ]]\n"
          ]
        }
      ]
    },
    {
      "cell_type": "code",
      "source": [
        "#Дана стартовая матрица (обязательно запустите код ниже в вашемрешении!). \n",
        "#Эта матрица будет использоваться в последующих задачах.\n",
        "#Необходимо написать код, который вернет следующую матрицуиз стартовой\n",
        "mat = np.arange(1,26).reshape(5,5)\n",
        "print(mat)\n",
        "print(' ')\n",
        "print(mat[2:,1:])"
      ],
      "metadata": {
        "colab": {
          "base_uri": "https://localhost:8080/"
        },
        "id": "7ON8Gu9_3oJF",
        "outputId": "3b7fca55-73dc-4ded-83e9-9b1fcf67adc9"
      },
      "execution_count": 44,
      "outputs": [
        {
          "output_type": "stream",
          "name": "stdout",
          "text": [
            "[[ 1  2  3  4  5]\n",
            " [ 6  7  8  9 10]\n",
            " [11 12 13 14 15]\n",
            " [16 17 18 19 20]\n",
            " [21 22 23 24 25]]\n",
            " \n",
            "[[12 13 14 15]\n",
            " [17 18 19 20]\n",
            " [22 23 24 25]]\n"
          ]
        }
      ]
    },
    {
      "cell_type": "code",
      "source": [
        "#Написать код обращения к элементу, который вернет значение  20 изстартовой матрицы задачи l\n",
        "mat = np.arange(1,26).reshape(5,5)\n",
        "print(mat)\n",
        "print(' ')\n",
        "print(mat[3,4])"
      ],
      "metadata": {
        "colab": {
          "base_uri": "https://localhost:8080/"
        },
        "id": "WBgpzxg28xcy",
        "outputId": "564dcd9c-092f-405e-de03-dee6aa4a68a9"
      },
      "execution_count": 43,
      "outputs": [
        {
          "output_type": "stream",
          "name": "stdout",
          "text": [
            "[[ 1  2  3  4  5]\n",
            " [ 6  7  8  9 10]\n",
            " [11 12 13 14 15]\n",
            " [16 17 18 19 20]\n",
            " [21 22 23 24 25]]\n",
            " \n",
            "20\n"
          ]
        }
      ]
    },
    {
      "cell_type": "code",
      "source": [
        "#Написать код к стартовой матрице задачи l , который воспроизводитвывод, показанный ниже\n",
        "mat = np.arange(1,26).reshape(5,5)\n",
        "print(mat)\n",
        "print(' ')\n",
        "print(mat[:3,1:2])"
      ],
      "metadata": {
        "colab": {
          "base_uri": "https://localhost:8080/"
        },
        "id": "BuurApx99PpL",
        "outputId": "55527169-8bba-4f38-9d73-00d47ebcf0c9"
      },
      "execution_count": 42,
      "outputs": [
        {
          "output_type": "stream",
          "name": "stdout",
          "text": [
            "[[ 1  2  3  4  5]\n",
            " [ 6  7  8  9 10]\n",
            " [11 12 13 14 15]\n",
            " [16 17 18 19 20]\n",
            " [21 22 23 24 25]]\n",
            " \n",
            "[[ 2]\n",
            " [ 7]\n",
            " [12]]\n"
          ]
        }
      ]
    },
    {
      "cell_type": "code",
      "source": [
        "#Написать код к стартовой матрице задачи l , который воспроизводит вывод, показанный ниже\n",
        "mat = np.arange(1,26).reshape(5,5)\n",
        "print(mat)\n",
        "print(' ')\n",
        "print(mat[4:])"
      ],
      "metadata": {
        "colab": {
          "base_uri": "https://localhost:8080/"
        },
        "id": "ttdt8E4q98xB",
        "outputId": "aeb68c52-41cc-4985-f474-0ad2228e51e9"
      },
      "execution_count": 41,
      "outputs": [
        {
          "output_type": "stream",
          "name": "stdout",
          "text": [
            "[[ 1  2  3  4  5]\n",
            " [ 6  7  8  9 10]\n",
            " [11 12 13 14 15]\n",
            " [16 17 18 19 20]\n",
            " [21 22 23 24 25]]\n",
            " \n",
            "[[21 22 23 24 25]]\n"
          ]
        }
      ]
    },
    {
      "cell_type": "code",
      "source": [
        "#Написать код к стартовой матрице задачи l , который воспроизводит вывод, показанный ниже\n",
        "mat = np.arange(1,26).reshape(5,5)\n",
        "print(mat)\n",
        "print(' ')\n",
        "print(mat[3:])"
      ],
      "metadata": {
        "colab": {
          "base_uri": "https://localhost:8080/"
        },
        "id": "1qJ04z3__RiK",
        "outputId": "b12dcd0a-cffa-454b-be9f-ae8a8696edc6"
      },
      "execution_count": 40,
      "outputs": [
        {
          "output_type": "stream",
          "name": "stdout",
          "text": [
            "[[ 1  2  3  4  5]\n",
            " [ 6  7  8  9 10]\n",
            " [11 12 13 14 15]\n",
            " [16 17 18 19 20]\n",
            " [21 22 23 24 25]]\n",
            " \n",
            "[[16 17 18 19 20]\n",
            " [21 22 23 24 25]]\n"
          ]
        }
      ]
    },
    {
      "cell_type": "code",
      "source": [
        "#Получить сумму всех значений в стартовой матрице mat\n",
        "mat = np.arange(1,26).reshape(5,5)\n",
        "print(mat)\n",
        "print(' ')\n",
        "print(mat.sum())"
      ],
      "metadata": {
        "colab": {
          "base_uri": "https://localhost:8080/"
        },
        "id": "JV4ca06ZCeFz",
        "outputId": "0a5000f3-5dde-468f-bc0a-71f18c56bdd4"
      },
      "execution_count": 39,
      "outputs": [
        {
          "output_type": "stream",
          "name": "stdout",
          "text": [
            "[[ 1  2  3  4  5]\n",
            " [ 6  7  8  9 10]\n",
            " [11 12 13 14 15]\n",
            " [16 17 18 19 20]\n",
            " [21 22 23 24 25]]\n",
            " \n",
            "325\n"
          ]
        }
      ]
    },
    {
      "cell_type": "code",
      "source": [
        "#Получить стандартное отклонение в стартовой матрице mat\n",
        "mat = np.arange(1,26).reshape(5,5)\n",
        "print(mat)\n",
        "print(' ')\n",
        "print(mat.std())"
      ],
      "metadata": {
        "colab": {
          "base_uri": "https://localhost:8080/"
        },
        "id": "IS6Eqqz1ES3g",
        "outputId": "d09a4253-e004-4a7d-ea0c-84c2005500b2"
      },
      "execution_count": 38,
      "outputs": [
        {
          "output_type": "stream",
          "name": "stdout",
          "text": [
            "[[ 1  2  3  4  5]\n",
            " [ 6  7  8  9 10]\n",
            " [11 12 13 14 15]\n",
            " [16 17 18 19 20]\n",
            " [21 22 23 24 25]]\n",
            " \n",
            "7.211102550927978\n"
          ]
        }
      ]
    },
    {
      "cell_type": "code",
      "source": [
        "#Получить сумму значений в колонках в стартовой матрице mat\n",
        "mat = np.arange(1,26).reshape(5,5)\n",
        "print(mat)\n",
        "print(' ')\n",
        "print(mat.sum(axis=0))"
      ],
      "metadata": {
        "colab": {
          "base_uri": "https://localhost:8080/"
        },
        "id": "4ujMxh6uEwFC",
        "outputId": "b9240522-3c0c-4f74-98b1-902ea61e6304"
      },
      "execution_count": 37,
      "outputs": [
        {
          "output_type": "stream",
          "name": "stdout",
          "text": [
            "[[ 1  2  3  4  5]\n",
            " [ 6  7  8  9 10]\n",
            " [11 12 13 14 15]\n",
            " [16 17 18 19 20]\n",
            " [21 22 23 24 25]]\n",
            " \n",
            "[55 60 65 70 75]\n"
          ]
        }
      ]
    }
  ]
}